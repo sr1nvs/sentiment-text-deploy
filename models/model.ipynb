{
 "cells": [
  {
   "cell_type": "code",
   "execution_count": 1,
   "metadata": {},
   "outputs": [],
   "source": [
    "import tensorflow as tf\n",
    "import keras\n",
    "from keras.preprocessing.text import Tokenizer\n",
    "from keras.utils import pad_sequences\n",
    "from keras.layers import Embedding, LSTM, Dense, Bidirectional, GlobalMaxPooling1D, Dropout\n",
    "from keras.models import Sequential\n",
    "import json\n",
    "import csv\n",
    "import numpy as np"
   ]
  },
  {
   "cell_type": "code",
   "execution_count": 2,
   "metadata": {},
   "outputs": [],
   "source": [
    "def load_data_from_csv(file_path):\n",
    "    data = []\n",
    "    with open(file_path, 'r') as csv_file:\n",
    "        csv_reader = csv.DictReader(csv_file)\n",
    "        for row in csv_reader:\n",
    "            row['label'] = int(row['label'])\n",
    "            data.append(row)\n",
    "    return data\n",
    "\n",
    "train_data = load_data_from_csv(r'C:\\Users\\srini\\Documents\\text-deploy\\models\\splitdata\\train.csv')\n",
    "val_data = load_data_from_csv(r'C:\\Users\\srini\\Documents\\text-deploy\\models\\splitdata\\validation.csv')\n",
    "test_data = load_data_from_csv(r'C:\\Users\\srini\\Documents\\text-deploy\\models\\splitdata\\test.csv')\n",
    "\n",
    "train_texts = [entry['text'] for entry in train_data]\n",
    "train_labels = [entry['label'] for entry in train_data]\n",
    "\n",
    "val_texts = [entry['text'] for entry in val_data]\n",
    "val_labels = [entry['label'] for entry in val_data]\n",
    "\n",
    "test_texts = [entry['text'] for entry in test_data]\n",
    "test_labels = [entry['label'] for entry in test_data]\n",
    "\n",
    "train_labels = np.array(train_labels)\n",
    "val_labels = np.array(val_labels)\n",
    "\n",
    "max_words = 30000\n",
    "max_sequence_length = 100\n",
    "embedding_dim = 100\n",
    "lstm_units = 64\n",
    "dropout_rate = 0.5\n",
    "num_classes = 6\n",
    "\n",
    "tokenizer = Tokenizer(num_words=max_words)\n",
    "tokenizer.fit_on_texts(train_texts)"
   ]
  },
  {
   "cell_type": "code",
   "execution_count": 3,
   "metadata": {},
   "outputs": [],
   "source": [
    "train_sequences = tokenizer.texts_to_sequences(train_texts)\n",
    "val_sequences = tokenizer.texts_to_sequences(val_texts)\n",
    "test_sequences = tokenizer.texts_to_sequences(test_texts)\n",
    "\n",
    "# Pad sequences to ensure consistent length\n",
    "train_sequences = pad_sequences(train_sequences, maxlen=max_sequence_length)\n",
    "val_sequences = pad_sequences(val_sequences, maxlen=max_sequence_length)\n",
    "test_sequences = pad_sequences(test_sequences, maxlen=max_sequence_length)"
   ]
  },
  {
   "cell_type": "code",
   "execution_count": 4,
   "metadata": {},
   "outputs": [
    {
     "name": "stdout",
     "output_type": "stream",
     "text": [
      "Model: \"sequential\"\n",
      "_________________________________________________________________\n",
      " Layer (type)                Output Shape              Param #   \n",
      "=================================================================\n",
      " embedding (Embedding)       (None, 100, 100)          3000000   \n",
      "                                                                 \n",
      " bidirectional (Bidirectiona  (None, 100, 128)         84480     \n",
      " l)                                                              \n",
      "                                                                 \n",
      " global_max_pooling1d (Globa  (None, 128)              0         \n",
      " lMaxPooling1D)                                                  \n",
      "                                                                 \n",
      " dropout (Dropout)           (None, 128)               0         \n",
      "                                                                 \n",
      " dense (Dense)               (None, 128)               16512     \n",
      "                                                                 \n",
      " dropout_1 (Dropout)         (None, 128)               0         \n",
      "                                                                 \n",
      " dense_1 (Dense)             (None, 6)                 774       \n",
      "                                                                 \n",
      "=================================================================\n",
      "Total params: 3,101,766\n",
      "Trainable params: 3,101,766\n",
      "Non-trainable params: 0\n",
      "_________________________________________________________________\n"
     ]
    }
   ],
   "source": [
    "model = Sequential()\n",
    "model.add(Embedding(input_dim=max_words, output_dim=embedding_dim, input_length=max_sequence_length))\n",
    "model.add(Bidirectional(LSTM(lstm_units, return_sequences=True)))\n",
    "model.add(GlobalMaxPooling1D())\n",
    "model.add(Dropout(dropout_rate))\n",
    "model.add(Dense(128, activation='relu'))\n",
    "model.add(Dropout(dropout_rate))\n",
    "model.add(Dense(num_classes, activation='softmax'))\n",
    "\n",
    "model.compile(optimizer='adam', loss='sparse_categorical_crossentropy', metrics=['accuracy'])\n",
    "\n",
    "model.summary()"
   ]
  },
  {
   "cell_type": "code",
   "execution_count": 5,
   "metadata": {},
   "outputs": [
    {
     "name": "stdout",
     "output_type": "stream",
     "text": [
      "Epoch 1/10\n",
      "5211/5211 [==============================] - 533s 101ms/step - loss: 0.2252 - accuracy: 0.9022 - val_loss: 0.0949 - val_accuracy: 0.9391\n",
      "Epoch 2/10\n",
      "5211/5211 [==============================] - 545s 105ms/step - loss: 0.0991 - accuracy: 0.9400 - val_loss: 0.0907 - val_accuracy: 0.9416\n",
      "Epoch 3/10\n",
      "5211/5211 [==============================] - 533s 102ms/step - loss: 0.0926 - accuracy: 0.9416 - val_loss: 0.0904 - val_accuracy: 0.9390\n",
      "Epoch 4/10\n",
      "5211/5211 [==============================] - 546s 105ms/step - loss: 0.0896 - accuracy: 0.9424 - val_loss: 0.0922 - val_accuracy: 0.9393\n",
      "Epoch 5/10\n",
      "5211/5211 [==============================] - 548s 105ms/step - loss: 0.0875 - accuracy: 0.9432 - val_loss: 0.0922 - val_accuracy: 0.9391\n",
      "Epoch 6/10\n",
      "5211/5211 [==============================] - 759s 146ms/step - loss: 0.0855 - accuracy: 0.9431 - val_loss: 0.0931 - val_accuracy: 0.9399\n",
      "Epoch 7/10\n",
      "5211/5211 [==============================] - 1080s 207ms/step - loss: 0.0847 - accuracy: 0.9437 - val_loss: 0.0959 - val_accuracy: 0.9400\n",
      "Epoch 8/10\n",
      "5211/5211 [==============================] - 524s 101ms/step - loss: 0.0839 - accuracy: 0.9441 - val_loss: 0.0975 - val_accuracy: 0.9396\n",
      "Epoch 9/10\n",
      "5211/5211 [==============================] - 523s 100ms/step - loss: 0.0831 - accuracy: 0.9442 - val_loss: 0.0960 - val_accuracy: 0.9396\n",
      "Epoch 10/10\n",
      "5211/5211 [==============================] - 529s 102ms/step - loss: 0.0829 - accuracy: 0.9442 - val_loss: 0.0969 - val_accuracy: 0.9407\n"
     ]
    },
    {
     "data": {
      "text/plain": [
       "<keras.callbacks.History at 0x18d104cee50>"
      ]
     },
     "execution_count": 5,
     "metadata": {},
     "output_type": "execute_result"
    }
   ],
   "source": [
    "model.fit(train_sequences, train_labels, epochs=10, batch_size=64, validation_data=(val_sequences, val_labels))"
   ]
  },
  {
   "cell_type": "code",
   "execution_count": 6,
   "metadata": {},
   "outputs": [],
   "source": [
    "model.save(\"models/emotion.h5\")"
   ]
  },
  {
   "cell_type": "code",
   "execution_count": 7,
   "metadata": {},
   "outputs": [],
   "source": [
    "tokenizer_word_index = tokenizer.word_index\n",
    "tokenizer_config = tokenizer.get_config()\n",
    "\n",
    "with open(\"tokenizer_word_index.json\", \"w\") as json_file:\n",
    "    json.dump(tokenizer_word_index, json_file)\n",
    "\n",
    "with open(\"tokenizer_config.json\", \"w\") as json_file:\n",
    "    json.dump(tokenizer_config, json_file)"
   ]
  }
 ],
 "metadata": {
  "kernelspec": {
   "display_name": "Python 3",
   "language": "python",
   "name": "python3"
  },
  "language_info": {
   "codemirror_mode": {
    "name": "ipython",
    "version": 3
   },
   "file_extension": ".py",
   "mimetype": "text/x-python",
   "name": "python",
   "nbconvert_exporter": "python",
   "pygments_lexer": "ipython3",
   "version": "3.11.4"
  },
  "orig_nbformat": 4
 },
 "nbformat": 4,
 "nbformat_minor": 2
}
